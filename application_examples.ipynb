{
 "cells": [
  {
   "cell_type": "code",
   "execution_count": 1,
   "id": "baed571a-a180-4e64-bfb3-b8360abfc0b1",
   "metadata": {},
   "outputs": [],
   "source": [
    "from pymatgen.analysis.local_env import VoronoiNN\n",
    "import mendeleev"
   ]
  },
  {
   "cell_type": "code",
   "execution_count": 2,
   "id": "5dd055f1-b9d3-4c40-b9c7-4d54c7eb4551",
   "metadata": {},
   "outputs": [],
   "source": [
    "from StructureAnalyzer import CrystalGraphAnalyzer"
   ]
  },
  {
   "cell_type": "code",
   "execution_count": 3,
   "id": "1038b78b-60b0-483f-95e2-80fa943d0978",
   "metadata": {},
   "outputs": [],
   "source": [
    "EN_dict = {el.symbol: el.electronegativity_allred_rochow() for el in mendeleev.get_all_elements()}\n",
    "EL_types_dict = {el.symbol: el.series for el in mendeleev.get_all_elements()}\n",
    "\n",
    "arbitrary_types = {\n",
    "    'Actinides': 'FM',\n",
    "    'Alkali metals': 'EPM',\n",
    "    'Alkaline earth metals': 'EPM',\n",
    "    'Halogens': 'NM',\n",
    "    'Lanthanides': 'FM',\n",
    "    'Metalloids': 'MTL',\n",
    "    'Noble gases': 'NG',\n",
    "    'Nonmetals': 'NM',\n",
    "    'Poor metals': 'ENM',\n",
    "    'Transition metals': 'TM'\n",
    "}\n",
    "EL_types_dict = {k: arbitrary_types[v] for k, v in EL_types_dict.items()}"
   ]
  },
  {
   "cell_type": "markdown",
   "id": "00f0d084-39d3-473c-b96c-89e0d104aa75",
   "metadata": {},
   "source": [
    "**Example structures in the ./example_cifs folder**\n",
    "\n",
    "- 2D\n",
    "  - 1 fragment\n",
    "    - Bi 653719\n",
    "    - GdP5 114\n",
    "    - ZrCl3 43292\n",
    "    - AgSnF6 51505\n",
    "  - \\> 1 fragments\n",
    "    - AgCrSe2 25626\n",
    "    - SnBi4Te7 236253\n",
    "    - BaCu 58646\n",
    "    - KCeS2 351\n",
    "    - Ti 653277\n",
    "    - MoS2 100042\n",
    "    - In2Te5 1385\n",
    "    - BaCuTeF 245624\n",
    "    - Cu3Se2 239\n",
    "    - Ca2Sb 154\n",
    "    - CaGe2 245611\n",
    "- 1D\n",
    "  - 1 fragment\n",
    "    - Cu(SCN)2 131336\n",
    "    - AuCN 165175\n",
    "    - CaH6(SO4)4 85073\n",
    "  - \\> 1 fragments\n",
    "    - Te3Cl2 105\n",
    "    - TeI 108\n",
    "    - ZrCl4 130654"
   ]
  },
  {
   "cell_type": "code",
   "execution_count": 4,
   "id": "7ad75857-f05b-451d-913d-63a4baedfb7b",
   "metadata": {},
   "outputs": [],
   "source": [
    "# Example Usage:\n",
    "CIF_FILE_NAME = r'./example_cifs/108.cif' # Choose cif file\n",
    "BOND_PROPERTY = 'BV' # Choose the desired bond property to be used as a criteria (BV, R, SA, A)\n",
    "TARGET_PERIODICITY = 2 # Reduce the graph to a target periodicity (1 or 2)\n",
    "\n",
    "# bond determination class\n",
    "# larger tol >> less accepted intaratomic contacts taken into account >> higher xbvs\n",
    "connectivity_calculator = VoronoiNN(\n",
    "    tol=0.2,\n",
    "    cutoff=6.0,\n",
    "    extra_nn_info=True,\n",
    "    allow_pathological=True,\n",
    "    compute_adj_neighbors=False\n",
    ")"
   ]
  },
  {
   "cell_type": "code",
   "execution_count": 5,
   "id": "22c734dc-ef81-4328-b365-8520a18dfa95",
   "metadata": {},
   "outputs": [],
   "source": [
    "analyzer = CrystalGraphAnalyzer(CIF_FILE_NAME, connectivity_calculator, BOND_PROPERTY)\n",
    "analyzer.analyze_graph(target_periodicity=TARGET_PERIODICITY)\n",
    "analysis_results = analyzer.output_subgraphs_data(save_fragments_to_cifs=False) # whether to save identified fragments to cifs"
   ]
  },
  {
   "cell_type": "code",
   "execution_count": 6,
   "id": "b094a95e-fbe6-4187-afd5-064e177a09ba",
   "metadata": {},
   "outputs": [
    {
     "data": {
      "text/html": [
       "<div>\n",
       "<style scoped>\n",
       "    .dataframe tbody tr th:only-of-type {\n",
       "        vertical-align: middle;\n",
       "    }\n",
       "\n",
       "    .dataframe tbody tr th {\n",
       "        vertical-align: top;\n",
       "    }\n",
       "\n",
       "    .dataframe thead th {\n",
       "        text-align: right;\n",
       "    }\n",
       "</style>\n",
       "<table border=\"1\" class=\"dataframe\">\n",
       "  <thead>\n",
       "    <tr style=\"text-align: right;\">\n",
       "      <th></th>\n",
       "      <th>threshold_BV</th>\n",
       "      <th>periodicity_before</th>\n",
       "      <th>periodicity_after</th>\n",
       "      <th>N_edges_to_remove</th>\n",
       "      <th>bvs_total_after_editing</th>\n",
       "    </tr>\n",
       "  </thead>\n",
       "  <tbody>\n",
       "    <tr>\n",
       "      <th>0</th>\n",
       "      <td>0.014</td>\n",
       "      <td>3</td>\n",
       "      <td>3</td>\n",
       "      <td>2</td>\n",
       "      <td>14.669498</td>\n",
       "    </tr>\n",
       "    <tr>\n",
       "      <th>1</th>\n",
       "      <td>0.017</td>\n",
       "      <td>3</td>\n",
       "      <td>3</td>\n",
       "      <td>12</td>\n",
       "      <td>14.469961</td>\n",
       "    </tr>\n",
       "    <tr>\n",
       "      <th>2</th>\n",
       "      <td>0.018</td>\n",
       "      <td>3</td>\n",
       "      <td>3</td>\n",
       "      <td>16</td>\n",
       "      <td>14.191500</td>\n",
       "    </tr>\n",
       "    <tr>\n",
       "      <th>3</th>\n",
       "      <td>0.019</td>\n",
       "      <td>3</td>\n",
       "      <td>3</td>\n",
       "      <td>0</td>\n",
       "      <td>14.191500</td>\n",
       "    </tr>\n",
       "    <tr>\n",
       "      <th>4</th>\n",
       "      <td>0.026</td>\n",
       "      <td>3</td>\n",
       "      <td>3</td>\n",
       "      <td>8</td>\n",
       "      <td>13.990035</td>\n",
       "    </tr>\n",
       "    <tr>\n",
       "      <th>5</th>\n",
       "      <td>0.030</td>\n",
       "      <td>3</td>\n",
       "      <td>3</td>\n",
       "      <td>2</td>\n",
       "      <td>13.932080</td>\n",
       "    </tr>\n",
       "    <tr>\n",
       "      <th>6</th>\n",
       "      <td>0.042</td>\n",
       "      <td>3</td>\n",
       "      <td>2</td>\n",
       "      <td>8</td>\n",
       "      <td>13.601545</td>\n",
       "    </tr>\n",
       "  </tbody>\n",
       "</table>\n",
       "</div>"
      ],
      "text/plain": [
       "   threshold_BV  periodicity_before  periodicity_after  N_edges_to_remove  \\\n",
       "0         0.014                   3                  3                  2   \n",
       "1         0.017                   3                  3                 12   \n",
       "2         0.018                   3                  3                 16   \n",
       "3         0.019                   3                  3                  0   \n",
       "4         0.026                   3                  3                  8   \n",
       "5         0.030                   3                  3                  2   \n",
       "6         0.042                   3                  2                  8   \n",
       "\n",
       "   bvs_total_after_editing  \n",
       "0                14.669498  \n",
       "1                14.469961  \n",
       "2                14.191500  \n",
       "3                14.191500  \n",
       "4                13.990035  \n",
       "5                13.932080  \n",
       "6                13.601545  "
      ]
     },
     "execution_count": 6,
     "metadata": {},
     "output_type": "execute_result"
    }
   ],
   "source": [
    "analyzer.monitor"
   ]
  },
  {
   "cell_type": "code",
   "execution_count": 7,
   "id": "c0e857da-3d0f-4bd3-baca-dea3495b2306",
   "metadata": {},
   "outputs": [
    {
     "name": "stdout",
     "output_type": "stream",
     "text": [
      "fragments: {1: {'composition': 'Te8I8', 'periodicity': '2D', 'orientation': '20-1', 'estimated_charge': 0.0}}\n",
      "N_fragments: 1\n",
      "total_bvs: 14.6964\n",
      "inter_bvs: 0.7327\n",
      "xbvs: 0.9501\n",
      "mean_inter_bv: 0.0244\n",
      "inter_bvs_per_interface: 0.7327\n",
      "inter_contacts_atom_types: {'NM..NM': 22, 'MTL..NM': 8}\n",
      "inter_contacts_bv_estimate: {'ML_estimated (confidence: True)': 0.7333333333333333, 'empirical_and_extrapolated': 0.26666666666666666}\n",
      "\n"
     ]
    }
   ],
   "source": [
    "print(analysis_results.results_as_string())"
   ]
  },
  {
   "cell_type": "code",
   "execution_count": 8,
   "id": "dcc401a4-2e23-41a1-86f7-059120e75a4a",
   "metadata": {},
   "outputs": [
    {
     "data": {
      "text/plain": [
       "{'input_file_name': '108',\n",
       " 'target_periodicity_reached': 1,\n",
       " 'bond_property': 'BV',\n",
       " 'composition': ['Te1 I1'],\n",
       " 'periodicity': ['2D'],\n",
       " 'orientation': ['20-1'],\n",
       " 'estimated_charge': [0.0],\n",
       " 'inter_bvs': 0.7326958532693197,\n",
       " 'intra_bvs': 13.963723098629705,\n",
       " 'total_bvs': 14.696418951899025,\n",
       " 'xbvs': 0.9501445994655288,\n",
       " 'mean_inter_bv': 0.024423195108977325,\n",
       " 'inter_bvs_per_interface': 0.7326958532693197,\n",
       " 'inter_contacts_atom_types': 'MTL..NM|NM..NM',\n",
       " 'inter_contacts_atom_types_full': \"{'NM..NM': 22, 'MTL..NM': 8}\",\n",
       " 'inter_contacts_bv_estimate_(tentative_share)': 0.0,\n",
       " 'inter_contacts_bv_estimate_full': \"{'ML_estimated (confidence: True)': 0.7333333333333333, 'empirical_and_extrapolated': 0.26666666666666666}\"}"
      ]
     },
     "execution_count": 8,
     "metadata": {},
     "output_type": "execute_result"
    }
   ],
   "source": [
    "analysis_results.results_as_dict()"
   ]
  },
  {
   "cell_type": "code",
   "execution_count": 9,
   "id": "913dc6fc-95b9-43c6-8e72-26cae9a89181",
   "metadata": {},
   "outputs": [
    {
     "data": {
      "text/plain": [
       "{'xbvs': 0.9501445994655288,\n",
       " 'mean_inter_bv': 0.024423195108977325,\n",
       " 'inter_bvs_per_interface': 0.7326958532693197,\n",
       " 'intra_bvs': 13.963723098629705,\n",
       " 'inter_bvs': 0.7326958532693197,\n",
       " 'total_bvs': 14.696418951899025,\n",
       " 'edited_graph_total_bvs': 13.601544738806352,\n",
       " 'restored_graph_total_bvs': 13.963723098629705}"
      ]
     },
     "execution_count": 9,
     "metadata": {},
     "output_type": "execute_result"
    }
   ],
   "source": [
    "analysis_results.show_BVs_data()"
   ]
  },
  {
   "cell_type": "code",
   "execution_count": null,
   "id": "84d9fc62-ea92-4c93-9c38-444c6206e919",
   "metadata": {},
   "outputs": [],
   "source": []
  }
 ],
 "metadata": {
  "kernelspec": {
   "display_name": "Python 3 (ipykernel)",
   "language": "python",
   "name": "python3"
  },
  "language_info": {
   "codemirror_mode": {
    "name": "ipython",
    "version": 3
   },
   "file_extension": ".py",
   "mimetype": "text/x-python",
   "name": "python",
   "nbconvert_exporter": "python",
   "pygments_lexer": "ipython3",
   "version": "3.9.13"
  },
  "widgets": {
   "application/vnd.jupyter.widget-state+json": {
    "state": {},
    "version_major": 2,
    "version_minor": 0
   }
  }
 },
 "nbformat": 4,
 "nbformat_minor": 5
}
